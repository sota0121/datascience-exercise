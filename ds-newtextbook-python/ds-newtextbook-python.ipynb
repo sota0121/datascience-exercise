{
 "cells": [
  {
   "cell_type": "markdown",
   "metadata": {},
   "source": [
    "# 目次\n",
    "\n",
    "1. データ分析エンジニアの役割（読むだけ）\n",
    "   1. データ分析の世界\n",
    "   2. 機械学習の位置づけと流れ\n",
    "   3. データ分析に使う主なパッケージ\n",
    "2. Pythonと環境（読むだけ）\n",
    "   1. 実行環境構築\n",
    "   2. Pythonの基礎\n",
    "   3. Jupyter Notebook\n",
    "3. 数学の基礎（読むだけ）\n",
    "   1. 数式を読むための基礎知識\n",
    "   2. 線形代数\n",
    "   3. 基礎解析\n",
    "   4. 確率と統計\n",
    "4. ライブラリによる分析の実践（実装する）\n",
    "   1. Numpy\n",
    "   2. pandas\n",
    "   3. Matplotlib\n",
    "   4. scikit-learn\n",
    "5. 応用：データ収集と加工（実装する）\n",
    "   1. スクレイピング\n",
    "   2. 自然言語の処理\n",
    "   3. 画像データの処理"
   ]
  },
  {
   "cell_type": "markdown",
   "metadata": {},
   "source": [
    "## 4. ライブラリによる分析の実践"
   ]
  },
  {
   "cell_type": "markdown",
   "metadata": {},
   "source": [
    "### 4.1. Numpy"
   ]
  },
  {
   "cell_type": "code",
   "execution_count": 2,
   "metadata": {},
   "outputs": [],
   "source": [
    "# import\n",
    "import numpy as np\n",
    "\n",
    "# make array\n",
    "a_1d = np.array([1, 2, 3, 4, 5, 6])\n",
    "a_2d = np.array([[1, 2, 3], [4, 5, 6]])\n",
    "a_1d_reshaped_to_2d = a_1d.reshape((2, 3))"
   ]
  },
  {
   "cell_type": "code",
   "execution_count": 4,
   "metadata": {},
   "outputs": [
    {
     "name": "stdout",
     "output_type": "stream",
     "text": [
      "[1 2 3 4 5 6]\n",
      "\n",
      "[[1 2 3]\n",
      " [4 5 6]]\n",
      "\n",
      "[[1 2 3]\n",
      " [4 5 6]]\n"
     ]
    }
   ],
   "source": [
    "print(a_1d)\n",
    "print()\n",
    "print(a_2d)\n",
    "print()\n",
    "print(a_1d_reshaped_to_2d)"
   ]
  },
  {
   "cell_type": "code",
   "execution_count": 7,
   "metadata": {},
   "outputs": [
    {
     "data": {
      "text/plain": [
       "array([1, 2, 3, 4, 5, 6])"
      ]
     },
     "execution_count": 7,
     "metadata": {},
     "output_type": "execute_result"
    }
   ],
   "source": [
    "a_2d_raveled_to_1d = a_1d_reshaped_to_2d.ravel()\n",
    "a_2d_raveled_to_1d # 参照を返す"
   ]
  },
  {
   "cell_type": "code",
   "execution_count": 8,
   "metadata": {},
   "outputs": [
    {
     "data": {
      "text/plain": [
       "array([1, 2, 3, 4, 5, 6])"
      ]
     },
     "execution_count": 8,
     "metadata": {},
     "output_type": "execute_result"
    }
   ],
   "source": [
    "a_2d_flatten_to_1d = a_1d_reshaped_to_2d.flatten()\n",
    "a_2d_flatten_to_1d # コピーを返す"
   ]
  },
  {
   "cell_type": "code",
   "execution_count": 50,
   "metadata": {},
   "outputs": [
    {
     "name": "stdout",
     "output_type": "stream",
     "text": [
      "[0 1 2 3 4 5 6 7 8 9]\n",
      "[ 1  2  3  4  5  6  7  8  9 10]\n",
      "[1 3 5 7 9]\n"
     ]
    }
   ],
   "source": [
    "# 数列を返す\n",
    "# np.arange(size)\n",
    "print(np.arange(10))\n",
    "# np.arange(start, end) generated number < end\n",
    "print(np.arange(1, 11))\n",
    "# np.arange(start, end, step)\n",
    "print(np.arange(1, 11, 2))"
   ]
  },
  {
   "cell_type": "code",
   "execution_count": 51,
   "metadata": {},
   "outputs": [
    {
     "name": "stdout",
     "output_type": "stream",
     "text": [
      "99\n",
      "743\n",
      "f1 == f2 ? : \n",
      " False\n",
      "67\n",
      "93\n",
      "f1 == f2 ? : \n",
      " False\n"
     ]
    }
   ],
   "source": [
    "# random\n",
    "f1 = np.random.randint(1, 1000)\n",
    "f2 = np.random.randint(1, 1000)\n",
    "print(f1)\n",
    "print(f2)\n",
    "# 練習ではシード値を固定（結果を同じ）にすることが多い\n",
    "# 結果が同じとは、何度試行（複数回呼び出し）しても同じ値になるということである\n",
    "# 実際はシード値を固定にしない\n",
    "np.random.seed(123)\n",
    "f1 = np.random.randint(1, 100)\n",
    "f2 = np.random.randint(1, 100)\n",
    "print(f1)\n",
    "print(f2)"
   ]
  },
  {
   "cell_type": "code",
   "execution_count": 58,
   "metadata": {},
   "outputs": [
    {
     "name": "stdout",
     "output_type": "stream",
     "text": [
      "[[0. 0. 0.]\n",
      " [0. 0. 0.]\n",
      " [0. 0. 0.]] \n",
      "\n",
      "[[1. 1. 1.]\n",
      " [1. 1. 1.]\n",
      " [1. 1. 1.]] \n",
      "\n",
      "[[1. 0. 0.]\n",
      " [0. 1. 0.]\n",
      " [0. 0. 1.]] \n",
      "\n",
      "[[3.14 3.14 3.14]\n",
      " [3.14 3.14 3.14]\n",
      " [3.14 3.14 3.14]] \n",
      "\n",
      "[0.   0.25 0.5  0.75 1.  ] \n",
      "\n",
      "a:  [0 1 3 7 2]\n",
      "a.diff:  [ 1  2  4 -5]\n"
     ]
    }
   ],
   "source": [
    "# method\n",
    "# - zeros: 全てゼロ\n",
    "print(np.zeros((3, 3)), '\\n')\n",
    "# - ones: 全て1\n",
    "print(np.ones((3, 3)), '\\n')\n",
    "# - eye: 単位行列\n",
    "print(np.eye(3), '\\n')\n",
    "# - full: 指定の値で埋める\n",
    "print(np.full((3, 3), 3.14), '\\n')\n",
    "# - linspace: 線形補間 (start, end, split num)\n",
    "print(np.linspace(0, 1, 5), '\\n')\n",
    "# - diff: 要素間の差分数列を返す\n",
    "print('a: ', np.array([0, 1, 3, 7, 2]))\n",
    "print('a.diff: ', np.diff(np.array([0, 1, 3, 7, 2])))"
   ]
  },
  {
   "cell_type": "code",
   "execution_count": 66,
   "metadata": {},
   "outputs": [
    {
     "name": "stdout",
     "output_type": "stream",
     "text": [
      "concat vertical >>\n",
      "[[ 1  2  3]\n",
      " [ 4  5  6]\n",
      " [ 7  8  9]\n",
      " [11 12 13]\n",
      " [14 15 16]\n",
      " [17 18 19]]\n",
      "vstack vertical >>\n",
      "[[ 1  2  3]\n",
      " [ 4  5  6]\n",
      " [ 7  8  9]\n",
      " [11 12 13]\n",
      " [14 15 16]\n",
      " [17 18 19]]\n",
      "concat horizontal >>\n",
      "[[ 1  2  3 11 12 13]\n",
      " [ 4  5  6 14 15 16]\n",
      " [ 7  8  9 17 18 19]]\n",
      "hstack horizontal >>\n",
      "[[ 1  2  3 11 12 13]\n",
      " [ 4  5  6 14 15 16]\n",
      " [ 7  8  9 17 18 19]]\n"
     ]
    }
   ],
   "source": [
    "# 行列の連結\n",
    "# 行方向\n",
    "# np.concatnate([a, b], axis=0)\n",
    "# np.vstack([a, b])\n",
    "# 列方向\n",
    "# np.concatnate([a, b], axis=1)\n",
    "# np.hstack([a, b])\n",
    "# ----------------------\n",
    "a = np.arange(1, 10, 1).reshape((3, 3))\n",
    "b = np.arange(11, 20, 1).reshape((3, 3))\n",
    "# ----------------------\n",
    "ab_vertical_concat = np.concatenate([a, b], axis=0)\n",
    "print('concat vertical >>')\n",
    "print(ab_vertical_concat)\n",
    "ab_vertical_vstack = np.vstack([a, b])\n",
    "print('vstack vertical >>')\n",
    "print(ab_vertical_vstack)\n",
    "# ----------------------\n",
    "ab_horizontal_concat = np.concatenate([a, b], axis=1)\n",
    "print('concat horizontal >>')\n",
    "print(ab_horizontal_concat)\n",
    "ab_horizontal_hstack = np.hstack([a, b])\n",
    "print('hstack horizontal >>')\n",
    "print(ab_horizontal_hstack)"
   ]
  },
  {
   "cell_type": "code",
   "execution_count": 67,
   "metadata": {},
   "outputs": [
    {
     "name": "stdout",
     "output_type": "stream",
     "text": [
      "vsplit a > 2row, else >>\n",
      "[[1 2 3]\n",
      " [4 5 6]]\n",
      "[[7 8 9]]\n",
      "hsplit a > 2clm, else >>\n",
      "[[1 2]\n",
      " [4 5]\n",
      " [7 8]]\n",
      "[[3]\n",
      " [6]\n",
      " [9]]\n"
     ]
    }
   ],
   "source": [
    "# 行列の分割\n",
    "# 行方向の分割：vsplit(src, [n]) > n行分が一つ目の戻り値、二つ目は残りの行\n",
    "first, second = np.vsplit(a, [2])\n",
    "print('vsplit a > 2row, else >>')\n",
    "print(first)\n",
    "print(second)\n",
    "# 列方向の分割：hsplit(src, [n]) > n列分が一つ目の戻り値、二つ目は残りの列\n",
    "first, second = np.hsplit(a, [2])\n",
    "print('hsplit a > 2clm, else >>')\n",
    "print(first)\n",
    "print(second)"
   ]
  },
  {
   "cell_type": "code",
   "execution_count": 70,
   "metadata": {},
   "outputs": [
    {
     "name": "stdout",
     "output_type": "stream",
     "text": [
      "a is >>\n",
      "[[1 2 3]\n",
      " [4 5 6]\n",
      " [7 8 9]]\n",
      "\n",
      "transposed a (= a.T) is >>\n",
      "[[1 4 7]\n",
      " [2 5 8]\n",
      " [3 6 9]]\n"
     ]
    }
   ],
   "source": [
    "# 転置\n",
    "print('a is >>')\n",
    "print(a)\n",
    "print()\n",
    "print('transposed a (= a.T) is >>')\n",
    "print(a.T)"
   ]
  },
  {
   "cell_type": "code",
   "execution_count": 73,
   "metadata": {},
   "outputs": [
    {
     "name": "stdout",
     "output_type": "stream",
     "text": [
      "add dim in row >> \n",
      "[[1 2 3]\n",
      " [4 5 6]\n",
      " [7 8 9]]\n",
      "[[[1 2 3]\n",
      "  [4 5 6]\n",
      "  [7 8 9]]]\n",
      "add dim in col >> \n",
      "[[1 2 3]\n",
      " [4 5 6]\n",
      " [7 8 9]]\n",
      "[[[1 2 3]]\n",
      "\n",
      " [[4 5 6]]\n",
      "\n",
      " [[7 8 9]]]\n"
     ]
    }
   ],
   "source": [
    "# 次元の追加\n",
    "# 増やしたい方向（row or col）にnp.newaxisを指定してスライシングする\n",
    "# 行方向の次元を増やしたい\n",
    "print('add dim in row >> ')\n",
    "print(a)\n",
    "print(a[np.newaxis, :])\n",
    "# 列方向の次元を増やしたい\n",
    "print('add dim in col >> ')\n",
    "print(a)\n",
    "print(a[:, np.newaxis])"
   ]
  },
  {
   "cell_type": "code",
   "execution_count": 74,
   "metadata": {},
   "outputs": [],
   "source": [
    "# グリッドデータの作成（3Dグラフを作る時とか使うこと多い）\n",
    "# > meshgridが作るものは何？\n",
    "# > - X座標列とY座標列から、それらを組み合わせて出来る全ての座標データを生成する\n",
    "# > - x = (1, 2, 3), y = (1, 2, 3) を入力とすると\n",
    "# > - [(1, 1), (2, 1), ... , (2, 3), (3, 3)] を作る\n",
    "# > - 具体的な出力は上記のX座標値とY座標値が別々で出るイメージ\n",
    "# > - x_grid = [1, 2, 3, 1, 2, 3, 1, ...]\n",
    "# > - y_grid = [1, 1, 1, 2, 2, 2, 3, ...]\n",
    "m = np.arange(0, 4)\n",
    "n = np.arange(4, 7)\n",
    "x_grid, y_grid = np.meshgrid(m, n)"
   ]
  },
  {
   "cell_type": "code",
   "execution_count": 76,
   "metadata": {},
   "outputs": [
    {
     "name": "stdout",
     "output_type": "stream",
     "text": [
      "m: [0 1 2 3]\n",
      "n: [4 5 6]\n",
      " === x_grid === \n",
      "[[0 1 2 3]\n",
      " [0 1 2 3]\n",
      " [0 1 2 3]]\n",
      " === y_grid === \n",
      "[[4 4 4 4]\n",
      " [5 5 5 5]\n",
      " [6 6 6 6]]\n"
     ]
    }
   ],
   "source": [
    "print('m: {0}\\nn: {1}'.format(m, n))\n",
    "print(' === x_grid === ')\n",
    "print(x_grid)\n",
    "print(' === y_grid === ')\n",
    "print(y_grid)"
   ]
  },
  {
   "cell_type": "code",
   "execution_count": 84,
   "metadata": {},
   "outputs": [
    {
     "data": {
      "text/plain": [
       "array([[-50000, -49999, -49998, ..., -49603, -49602, -49601],\n",
       "       [-49600, -49599, -49598, ..., -49203, -49202, -49201],\n",
       "       [-49200, -49199, -49198, ..., -48803, -48802, -48801],\n",
       "       ...,\n",
       "       [ 68800,  68801,  68802, ...,  69197,  69198,  69199],\n",
       "       [ 69200,  69201,  69202, ...,  69597,  69598,  69599],\n",
       "       [ 69600,  69601,  69602, ...,  69997,  69998,  69999]])"
      ]
     },
     "execution_count": 84,
     "metadata": {},
     "output_type": "execute_result"
    }
   ],
   "source": [
    "# ===============================================================\n",
    "# Universal Function\n",
    "# Numpyの強力な機能の一つ。全要素に対する様々な一括処理メソッド\n",
    "# 中身はCなので高速\n",
    "# 1. np.abs(arr) * 試しに処理時間を計算する\n",
    "# 2. np.sin(arr)\n",
    "# 3. np.cos(arr)\n",
    "# 4. np.log(arr) <-- ln\n",
    "# 5. np.log10(arr)\n",
    "# 6. np.exp(arr) ... etc\n",
    "# *** timer cell: https://qiita.com/mgsk_2/items/437656b8ce42c03e41a6\n",
    "sample_arr = np.arange(-50000, 70000).reshape((300, 400))\n",
    "sample_arr"
   ]
  },
  {
   "cell_type": "code",
   "execution_count": 89,
   "metadata": {},
   "outputs": [
    {
     "name": "stdout",
     "output_type": "stream",
     "text": [
      "30.1 ms ± 1.11 ms per loop (mean ± std. dev. of 7 runs, 10 loops each)\n"
     ]
    }
   ],
   "source": [
    "%%timeit\n",
    "sample_2dlist = sample_arr.tolist()\n",
    "absoluted = []\n",
    "for i, values in enumerate(sample_2dlist):\n",
    "    absoluted.append([])\n",
    "    for val in values:\n",
    "        absoluted[i].append(abs(val))\n",
    "absoluted"
   ]
  },
  {
   "cell_type": "code",
   "execution_count": 90,
   "metadata": {},
   "outputs": [
    {
     "name": "stdout",
     "output_type": "stream",
     "text": [
      "97 µs ± 1.67 µs per loop (mean ± std. dev. of 7 runs, 10000 loops each)\n"
     ]
    }
   ],
   "source": [
    "%%timeit\n",
    "np.abs(sample_arr)"
   ]
  },
  {
   "cell_type": "code",
   "execution_count": null,
   "metadata": {},
   "outputs": [],
   "source": [
    "# ===============================================================\n",
    "# Broadcast\n",
    "# Numpyの強力な機能の一つ。四則演算の算術演算子を記述するだけで\n",
    "# 高速に全要素に対して、要素ごとに算術演算を実行する\n",
    "# +, -, /, *, **"
   ]
  },
  {
   "cell_type": "code",
   "execution_count": 91,
   "metadata": {},
   "outputs": [
    {
     "name": "stdout",
     "output_type": "stream",
     "text": [
      "27.8 ms ± 1.01 ms per loop (mean ± std. dev. of 7 runs, 10 loops each)\n"
     ]
    }
   ],
   "source": [
    "%%timeit\n",
    "sample_2dlist = sample_arr.tolist()\n",
    "added3 = []\n",
    "for i, values in enumerate(sample_2dlist):\n",
    "    added3.append([])\n",
    "    for val in values:\n",
    "        \n",
    "        added3[i].append(val + 3)\n",
    "added3"
   ]
  },
  {
   "cell_type": "code",
   "execution_count": 92,
   "metadata": {},
   "outputs": [
    {
     "name": "stdout",
     "output_type": "stream",
     "text": [
      "56.6 µs ± 2.8 µs per loop (mean ± std. dev. of 7 runs, 10000 loops each)\n"
     ]
    }
   ],
   "source": [
    "%%timeit\n",
    "sample_arr + 3"
   ]
  },
  {
   "cell_type": "code",
   "execution_count": 97,
   "metadata": {},
   "outputs": [
    {
     "name": "stdout",
     "output_type": "stream",
     "text": [
      "a = \n",
      " [[1 2 3]\n",
      " [4 5 6]\n",
      " [7 8 9]]\n",
      "b = \n",
      " [[11 12 13]\n",
      " [14 15 16]\n",
      " [17 18 19]]\n",
      "c = \n",
      " [[150 186 222]\n",
      " [186 231 276]\n",
      " [222 276 330]]\n"
     ]
    }
   ],
   "source": [
    "#========================================\n",
    "# dot product\n",
    "# 行列の積（内積）\n",
    "# 以前は、np.dot(b, a)\n",
    "# Python3.5以降は、b @ a\n",
    "a = np.arange(1, 10).reshape((3, 3))\n",
    "b = np.arange(11, 20).reshape((3, 3))\n",
    "c = b @ a\n",
    "print('a = \\n', a)\n",
    "print('b = \\n', b)\n",
    "print('c = \\n', c)"
   ]
  },
  {
   "cell_type": "code",
   "execution_count": 105,
   "metadata": {},
   "outputs": [
    {
     "name": "stdout",
     "output_type": "stream",
     "text": [
      "nonzero num :  69999 \n",
      "true_num :  69999\n",
      "plus element exists ? :  True\n",
      "sample_arr is all close to sample_arr_? False\n"
     ]
    }
   ],
   "source": [
    "# =====================================\n",
    "# 判定・論理値\n",
    "# a < b >> [True, False, True] みたいな行列を返す\n",
    "# これを応用して、「ある条件を満たす要素のみ取得/カウントする」などが良く使われる\n",
    "# - 正の要素数を取得する\n",
    "# Case1 np.sum()＋論理値行列＝条件を満たす要素の数を取得する\n",
    "nonzero_num = np.count_nonzero(sample_arr > 0)\n",
    "true_num = np.sum(sample_arr > 0)\n",
    "print('nonzero num : ', nonzero_num, '\\ntrue_num : ', true_num)\n",
    "# Case2 np.any()＋論理値行列＝条件を満たす要素が少なくとも一つあるかどうか判定する\n",
    "plus_exists = np.any(sample_arr > 0)\n",
    "print('plus element exists ? : ', plus_exists)\n",
    "# Case3 np.allclose()＝二つの行列の全要素間の差が規定の誤差以内か？（近似）\n",
    "sample_arr = sample_arr.astype(float)\n",
    "sample_arr_ = sample_arr + 0.001\n",
    "close_001 = np.allclose(sample_arr, sample_arr_, atol=0.01)\n",
    "close_00001 = np.allclose(sample_arr, sample_arr_, atol=0.0001)\n",
    "print('sample_arr is all close to sample_arr_?(delta<0.01)', close_001)\n",
    "print('sample_arr is all close to sample_arr_?(del)', close_00001)"
   ]
  },
  {
   "cell_type": "markdown",
   "metadata": {},
   "source": [
    "### 4.2. pandas"
   ]
  },
  {
   "cell_type": "markdown",
   "metadata": {},
   "source": [
    "### 4.3. scikit-learn"
   ]
  },
  {
   "cell_type": "code",
   "execution_count": null,
   "metadata": {},
   "outputs": [],
   "source": []
  }
 ],
 "metadata": {
  "kernelspec": {
   "display_name": "Python 3",
   "language": "python",
   "name": "python3"
  },
  "language_info": {
   "codemirror_mode": {
    "name": "ipython",
    "version": 3
   },
   "file_extension": ".py",
   "mimetype": "text/x-python",
   "name": "python",
   "nbconvert_exporter": "python",
   "pygments_lexer": "ipython3",
   "version": "3.7.3"
  }
 },
 "nbformat": 4,
 "nbformat_minor": 4
}
