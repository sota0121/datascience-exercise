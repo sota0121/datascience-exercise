{
 "cells": [
  {
   "cell_type": "markdown",
   "metadata": {},
   "source": [
    "# 母集団からの標本抽出シミュレーション\n",
    "\n",
    "本章では、母集団が完全にわかっていることを前提としたシミュレーションを行う\n",
    "\n",
    "最後の部分に、無限母集団への展開を補足している。\n"
   ]
  },
  {
   "cell_type": "code",
   "execution_count": 4,
   "metadata": {},
   "outputs": [],
   "source": [
    "import numpy as np\n",
    "import pandas as pd\n",
    "import scipy as sp\n",
    "from scipy import stats\n",
    "import matplotlib.pyplot as plt\n",
    "import seaborn as sns\n",
    "%precision 3\n",
    "%matplotlib inline"
   ]
  },
  {
   "cell_type": "code",
   "execution_count": 12,
   "metadata": {},
   "outputs": [
    {
     "data": {
      "text/plain": [
       "array([0.06 , 0.257, 1.452, 0.88 , 1.314, 0.193, 1.527, 0.24 , 0.747,\n",
       "       1.299])"
      ]
     },
     "execution_count": 12,
     "metadata": {},
     "output_type": "execute_result"
    }
   ],
   "source": [
    "# 湖の中の魚を釣るシミュレーション\n",
    "fish_10 = np.abs(np.array(np.random.randn(10)))\n",
    "fish_10"
   ]
  },
  {
   "cell_type": "code",
   "execution_count": 13,
   "metadata": {},
   "outputs": [
    {
     "data": {
      "text/plain": [
       "array([0.06])"
      ]
     },
     "execution_count": 13,
     "metadata": {},
     "output_type": "execute_result"
    }
   ],
   "source": [
    "# 単純ランダムサンプリング(サンプルサイズ = 1)\n",
    "np.random.choice(fish_10, size=1, replace=False)"
   ]
  },
  {
   "cell_type": "code",
   "execution_count": 14,
   "metadata": {},
   "outputs": [
    {
     "data": {
      "text/plain": [
       "0        5.297442\n",
       "1        3.505566\n",
       "2        3.572546\n",
       "3        3.135979\n",
       "4        4.689275\n",
       "           ...   \n",
       "99995    4.158780\n",
       "99996    4.818718\n",
       "99997    4.060880\n",
       "99998    4.271488\n",
       "99999    3.396745\n",
       "Name: length, Length: 100000, dtype: float64"
      ]
     },
     "execution_count": 14,
     "metadata": {},
     "output_type": "execute_result"
    }
   ],
   "source": [
    "# もっとたくさんサンプルがある場合\n",
    "fish_100000 = pd.read_csv('./samples/3-4-1-fish_length_100000.csv')['length']\n",
    "fish_100000"
   ]
  },
  {
   "cell_type": "code",
   "execution_count": 15,
   "metadata": {},
   "outputs": [
    {
     "data": {
      "text/plain": [
       "array([5.075, 3.24 , 4.849, 4.714, 3.997, 3.735, 3.301, 3.285, 4.878,\n",
       "       2.994])"
      ]
     },
     "execution_count": 15,
     "metadata": {},
     "output_type": "execute_result"
    }
   ],
   "source": [
    "# 単純ランダムサンプリング(サンプルサイズ = 10)\n",
    "sampled = np.random.choice(\n",
    "    fish_100000, size=10, replace=False\n",
    ")\n",
    "sampled"
   ]
  },
  {
   "cell_type": "code",
   "execution_count": 16,
   "metadata": {},
   "outputs": [
    {
     "data": {
      "text/plain": [
       "4.00675502023665"
      ]
     },
     "execution_count": 16,
     "metadata": {},
     "output_type": "execute_result"
    }
   ],
   "source": [
    "np.mean(sampled)"
   ]
  },
  {
   "cell_type": "code",
   "execution_count": 17,
   "metadata": {},
   "outputs": [
    {
     "name": "stdout",
     "output_type": "stream",
     "text": [
      "mean:  4.000000000000001 \n",
      "std:  0.8 \n",
      "var:  0.64\n"
     ]
    },
    {
     "data": {
      "text/plain": [
       "<matplotlib.axes._subplots.AxesSubplot at 0x7f3c8b690d68>"
      ]
     },
     "execution_count": 17,
     "metadata": {},
     "output_type": "execute_result"
    },
    {
     "data": {
      "image/png": "[encoded data removed]",
      "text/plain": [
       "<Figure size 432x288 with 1 Axes>"
      ]
     },
     "metadata": {
      "needs_background": "light"
     },
     "output_type": "display_data"
    }
   ],
   "source": [
    "# 母集団分布の推定\n",
    "mean = np.mean(fish_100000)\n",
    "std = np.std(fish_100000, ddof=0)\n",
    "var = np.var(fish_100000, ddof=0)\n",
    "print('mean: ', mean, '\\nstd: ', std, '\\nvar: ', var)\n",
    "sns.distplot(fish_100000, kde=False, color='red')"
   ]
  },
  {
   "cell_type": "code",
   "execution_count": 21,
   "metadata": {},
   "outputs": [
    {
     "data": {
      "text/plain": [
       "[<matplotlib.lines.Line2D at 0x7f3c8ba64748>]"
      ]
     },
     "execution_count": 21,
     "metadata": {},
     "output_type": "execute_result"
    },
    {
     "data": {
      "image/png": "[encoded data removed]",
      "text/plain": [
       "<Figure size 432x288 with 1 Axes>"
      ]
     },
     "metadata": {
      "needs_background": "light"
     },
     "output_type": "display_data"
    }
   ],
   "source": [
    "# 仮定を置く\n",
    "# 「平均値4.00、分散0.64の正規分布」で表現できるのではないかと仮定する\n",
    "# そこで、母集団分布と上記仮定した正規分布の確率密度関数を比較してみる\n",
    "# 上記で描画したグラフを参考に、1~7の範囲で正規分布の確率密度関数を作る\n",
    "x = np.arange(start=1, stop=7.1, step=0.1)\n",
    "p_x = stats.norm.pdf(x=x, loc=4, scale=0.8)\n",
    "sns.distplot(fish_100000, kde=False, color='red', norm_hist=True)\n",
    "plt.plot(x, p_x, color='black')"
   ]
  },
  {
   "cell_type": "code",
   "execution_count": 23,
   "metadata": {},
   "outputs": [
    {
     "data": {
      "text/plain": [
       "array([2.898, 4.021, 4.434, 4.566, 5.424, 2.376, 4.38 , 3.898, 4.775,\n",
       "       5.018])"
      ]
     },
     "execution_count": 23,
     "metadata": {},
     "output_type": "execute_result"
    }
   ],
   "source": [
    "# 標本が得られるプロセスの抽象化\n",
    "# これまで(具体)\n",
    "# > 標本を得る = fish_100000 からランダムにサンプリングする (fish_100000は平均4.0、分散0.64の正規分布)\n",
    "# これから（抽象）\n",
    "# > 標本を得る = 平均4.0、分散0.64の正規分布に従う乱数（=確率変数）を発生させる\n",
    "# ※補足……分散0.64ということは、標準偏差は0.8\n",
    "\n",
    "# loc:平均, scale:標準偏差, size:サンプルサイズ\n",
    "np.random.normal(loc=4, scale=0.8, size=10)"
   ]
  },
  {
   "cell_type": "markdown",
   "metadata": {},
   "source": [
    "### 【補足】\n",
    "#### 有限母集団修正\n",
    "\n",
    "- 以降、シミュレーションにより標本の特徴を明らかにしていくが、無限母集団を前提としている\n",
    "- ここで取り扱った100000件のデータは無限ではない為、厳密には有限母集団修正を行う必要がある\n",
    "- ただし、有限母集団であっても、サンプルサイズに対して母集団が十分大きい場合は、「有限母集団修正をする意味はほとんどない」と考えることができる\n",
    "- 以降では、サンプルサイズに対して母集団が十分に大きいものと想定して進める\n",
    "\n",
    "#### 母集団分布を正規分布とみなしてもよいのか\n",
    "\n",
    "- 基本的に、母集団分布は何らかの分布を決め内で仮定することが多い\n",
    "- 正規分布はよく用いられるが、他にも一般化線形モデルのように正規分布以外の分布を想定することもある\n",
    "- 母集団の全数調査ができない以上、標本のヒストグラムを描くなどして、当たりをつけるのが普通"
   ]
  }
 ],
 "metadata": {
  "kernelspec": {
   "display_name": "Python 3",
   "language": "python",
   "name": "python3"
  },
  "language_info": {
   "codemirror_mode": {
    "name": "ipython",
    "version": 3
   },
   "file_extension": ".py",
   "mimetype": "text/x-python",
   "name": "python",
   "nbconvert_exporter": "python",
   "pygments_lexer": "ipython3",
   "version": "3.7.3"
  }
 },
 "nbformat": 4,
 "nbformat_minor": 4
}
