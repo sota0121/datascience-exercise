{
 "cells": [
  {
   "cell_type": "markdown",
   "metadata": {},
   "source": [
    "# 正規分布とその応用\n",
    "\n",
    "## 流れ\n",
    "\n",
    "正規分布であることを利用すれば、シミュレーションを行うことなく様々なことができる。\n",
    "その応用方法を記載する。また、正規分布から得られた標本分布としてt分布を導入する。\n",
    "\n",
    "1. 標本がある値以下となる割合（下側確率）の求め方と累積分布関数\n",
    "2. 下側確率とパーセント点\n",
    "3. t値とt値の標本分布とt分布\n"
   ]
  },
  {
   "cell_type": "code",
   "execution_count": 1,
   "metadata": {},
   "outputs": [
    {
     "name": "stderr",
     "output_type": "stream",
     "text": [
      "/root/local/bin/python-3.7.3/lib/python3.7/importlib/_bootstrap.py:219: RuntimeWarning: numpy.ufunc size changed, may indicate binary incompatibility. Expected 192 from C header, got 216 from PyObject\n",
      "  return f(*args, **kwds)\n",
      "/root/local/bin/python-3.7.3/lib/python3.7/importlib/_bootstrap.py:219: RuntimeWarning: numpy.ufunc size changed, may indicate binary incompatibility. Expected 192 from C header, got 216 from PyObject\n",
      "  return f(*args, **kwds)\n",
      "/root/local/bin/python-3.7.3/lib/python3.7/importlib/_bootstrap.py:219: RuntimeWarning: numpy.ufunc size changed, may indicate binary incompatibility. Expected 192 from C header, got 216 from PyObject\n",
      "  return f(*args, **kwds)\n",
      "/root/local/bin/python-3.7.3/lib/python3.7/importlib/_bootstrap.py:219: RuntimeWarning: numpy.ufunc size changed, may indicate binary incompatibility. Expected 192 from C header, got 216 from PyObject\n",
      "  return f(*args, **kwds)\n",
      "/root/local/bin/python-3.7.3/lib/python3.7/importlib/_bootstrap.py:219: RuntimeWarning: numpy.ufunc size changed, may indicate binary incompatibility. Expected 192 from C header, got 216 from PyObject\n",
      "  return f(*args, **kwds)\n"
     ]
    }
   ],
   "source": [
    "import numpy as np\n",
    "import pandas as pd\n",
    "import scipy as sp\n",
    "from scipy import stats\n",
    "import matplotlib.pyplot as plt\n",
    "import seaborn as sns\n",
    "%precision 3\n",
    "%matplotlib inline"
   ]
  },
  {
   "cell_type": "markdown",
   "metadata": {},
   "source": [
    "### 1. 標本がある値以下となる割合（下側確率）の求め方と累積分布関数\n",
    "\n",
    "- 下側確率 = 標本がある値以下となったデータの個数 / サンプルサイズ で求められる\n",
    "- 累積分布関数を使えば、定積分の式で求めることができる\n",
    "- 累積分布関数（または分布関数）とは、「ある値以下となる確率を計算してくれるもの」\n",
    "- 正規分布において、確率変数Xが3以下となる確率というと\n",
    "\n",
    "$$\n",
    "P(X \\leqq 3) = \\int_{-\\infty}^3 \\frac{1}{\\sqrt{2\\pi\\sigma^2}}e^{-\\frac{(x-\\mu)^2}{2\\sigma^2}} dx\n",
    "$$\n"
   ]
  },
  {
   "cell_type": "markdown",
   "metadata": {},
   "source": [
    "### 2. 下側確率とパーセント点\n",
    "\n",
    "「確率変数xが〇を下回る確率は△%である」という表現を考える。\n",
    "\n",
    "- 〇（変数）を固定して、△（確率）を求める場合、この時の△が下側確率\n",
    "- △（確率）を固定して、〇（変数）を求める場合、この時の〇がパーセント点\n"
   ]
  },
  {
   "cell_type": "code",
   "execution_count": 4,
   "metadata": {},
   "outputs": [
    {
     "data": {
      "text/plain": [
       "0.5"
      ]
     },
     "execution_count": 4,
     "metadata": {},
     "output_type": "execute_result"
    }
   ],
   "source": [
    "# 下側確率も求める例（正規分布：N(4, 0.8**2), x=4）\n",
    "stats.norm.cdf(loc=4, scale=0.8, x=4)"
   ]
  },
  {
   "cell_type": "code",
   "execution_count": 5,
   "metadata": {},
   "outputs": [
    {
     "data": {
      "text/plain": [
       "2.4320288123679563"
      ]
     },
     "execution_count": 5,
     "metadata": {},
     "output_type": "execute_result"
    }
   ],
   "source": [
    "# パーセント点を求める例（正規分布：N(4, 0.8**2), 下側確率2.5%）\n",
    "stats.norm.ppf(loc=4, scale=0.8, q=0.025)"
   ]
  },
  {
   "cell_type": "markdown",
   "metadata": {},
   "source": [
    "### 3. t値とt値の標本分布とt分布\n",
    "\n",
    "#### t値とは\n",
    "\n",
    "$$\n",
    "t value = \\frac{\\hat{\\mu} - \\mu}{\\frac{\\hat{\\sigma}}{\\sqrt{N}}}\n",
    "$$\n",
    "\n",
    "\n",
    "$$\\hat{\\mu} : 標本平均$$\n",
    "$$\\mu : 母平均$$\n",
    "$$\\hat{\\sigma} : 標本から計算された標準偏差（不偏分散の平方根）$$\n",
    "\n",
    "#### t値の標本分布\n",
    "\n",
    "- 母集団分布を正規分布とした場合のt値の標本分布をシミュレーションし、標準正規分布と比較すると\n",
    "- 平均値は0になり、分散は1より少し大きいことが分かる\n",
    "\n",
    "#### t分布\n",
    "\n",
    "- **母集団分布が正規分布であるときのt値の標本分布** をt分布という\n",
    "- t分布には自由度というパラメータがあり、自由度nとしたときのt分布を t(n) などと表記する\n",
    "- 自由度とは、サンプルサイズから1引いた数である。サンプルサイズNとすると、n = N-1 である\n",
    "\n",
    "<font color=red>**t分布の性質あれこれ**</font>\n",
    "\n",
    "- 平均値は0である\n",
    "- 分散は1より少し大きくなる\n",
    "- 分散を具体的に計算する場合（自由度をn(>2)として）\n",
    "\n",
    "$$ t(n)の分散 = \\frac{n}{n-2} $$\n",
    "\n",
    "サンプルサイズが大きくなると標準正規分布に近づく\n",
    "\n",
    "別の資料で確認したところ、サンプルサイズ30以下ならt分布、30より大なら標準正規分布を適用する\n",
    "\n",
    "というような記述を見たことがある。サンプルサイズが小さいときのモデルと言える。\n",
    "\n",
    "#### t分布の意義\n",
    "\n",
    "- **母分散が分かっていない状況であっても、標本平均の分布について言及することができる**\n",
    "\n",
    "ここらへんの説明は [統計Web](https://bellcurve.jp/statistics/course/) の方が分かりやすいかもしれない"
   ]
  }
 ],
 "metadata": {
  "kernelspec": {
   "display_name": "Python 3",
   "language": "python",
   "name": "python3"
  },
  "language_info": {
   "codemirror_mode": {
    "name": "ipython",
    "version": 3
   },
   "file_extension": ".py",
   "mimetype": "text/x-python",
   "name": "python",
   "nbconvert_exporter": "python",
   "pygments_lexer": "ipython3",
   "version": "3.7.3"
  }
 },
 "nbformat": 4,
 "nbformat_minor": 4
}
