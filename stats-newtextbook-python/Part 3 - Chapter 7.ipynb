{
 "cells": [
  {
   "cell_type": "markdown",
   "metadata": {},
   "source": [
    "# 推定\n",
    "\n",
    "---\n",
    "\n",
    "## 理論のまとめ\n",
    "\n",
    "1. 点推定：ほぼない。母集団分布が正規分布の場合、母平均と母分散を推定して終わり。母平均の推定値＝標本平均、母分散の推定値＝不偏分散\n",
    "2. 区間推定：実践的、以下詳細\n",
    "\n",
    "母集団が正規分布に従うとした場合の話……\n",
    "\n",
    "1. 母平均の区間推定\n",
    "  1. 母分散既知：標準正規分布を使う\n",
    "  2. 母分散未知：t分布を使う（標準化の式の母分散を不偏分散にするとt値の計算式になる）\n",
    "2. 母分散の区間推定\n",
    "  1. 母平均：χ2乗分布を使う\n",
    "\n",
    "ここらへんは [統計Web](https://bellcurve.jp/statistics/course/) にきれいにまとまっているのでそちらがおススメ\n",
    "\n",
    "---\n",
    "\n",
    "### 用語まとめ\n",
    "\n",
    "- **信頼係数**：「〇％信頼区間」といったときの「〇％」の部分（次元：なし）\n",
    "- **信頼区間**：区間推定時に求める、任意の信頼係数を満たす区間のこと（次元：標本と同一次元）\n",
    "- **信頼限界**：信頼区間の下限値、上限値のこと。それぞれ「下側信頼限界」「上側信頼限界」という。（次元：標本と同一次元）\n",
    "\n",
    "---\n",
    "\n",
    "## 実践編"
   ]
  },
  {
   "cell_type": "code",
   "execution_count": 2,
   "metadata": {},
   "outputs": [
    {
     "data": {
      "text/plain": [
       "0    4.352982\n",
       "1    3.735304\n",
       "2    5.944617\n",
       "3    3.798326\n",
       "4    4.087688\n",
       "5    5.265985\n",
       "6    3.272614\n",
       "7    3.526691\n",
       "8    4.150083\n",
       "9    3.736104\n",
       "Name: length, dtype: float64"
      ]
     },
     "execution_count": 2,
     "metadata": {},
     "output_type": "execute_result"
    }
   ],
   "source": [
    "import numpy as np\n",
    "import pandas as pd\n",
    "import scipy as sp\n",
    "from scipy import stats\n",
    "import matplotlib.pyplot as plt\n",
    "import seaborn as sns\n",
    "sns.set()\n",
    "%precision 3\n",
    "%matplotlib inline\n",
    "fish = pd.read_csv('./samples/3-7-1-fish_length.csv')['length']\n",
    "fish"
   ]
  },
  {
   "cell_type": "code",
   "execution_count": 5,
   "metadata": {},
   "outputs": [
    {
     "name": "stdout",
     "output_type": "stream",
     "text": [
      "自由度:  9 \n",
      "標本平均:  4.187039324504523 \n",
      "標準誤差:  0.2608259396768776\n"
     ]
    }
   ],
   "source": [
    "# 母平均の区間推定（母分散未知）の実践\n",
    "# > Q: fish の95%信頼区間を求めよ\n",
    "# > アプローチ\n",
    "# > - 求めたい値は母平均μ、t値の計算式において、それ以外は算出できるので算出する\n",
    "# > - 「それ以外」とは、標本平均、標準誤差、自由度である\n",
    "# ref: https://bellcurve.jp/statistics/course/8972.html\n",
    "v = len(fish) - 1 # 自由度\n",
    "sample_mean = np.mean(fish.values) # 標本平均\n",
    "std_err = np.std(fish, ddof=1) / np.sqrt(len(fish)) # 標準誤差\n",
    "print('自由度: ', v, '\\n標本平均: ', sample_mean, '\\n標準誤差: ', std_err)"
   ]
  },
  {
   "cell_type": "code",
   "execution_count": 7,
   "metadata": {},
   "outputs": [
    {
     "data": {
      "text/plain": [
       "(3.597010056835825, 4.777068592173221)"
      ]
     },
     "execution_count": 7,
     "metadata": {},
     "output_type": "execute_result"
    }
   ],
   "source": [
    "trusted_interval = stats.t.interval(alpha=0.95, df=v, loc=sample_mean, scale=std_err)\n",
    "trusted_interval"
   ]
  }
 ],
 "metadata": {
  "kernelspec": {
   "display_name": "Python 3",
   "language": "python",
   "name": "python3"
  },
  "language_info": {
   "codemirror_mode": {
    "name": "ipython",
    "version": 3
   },
   "file_extension": ".py",
   "mimetype": "text/x-python",
   "name": "python",
   "nbconvert_exporter": "python",
   "pygments_lexer": "ipython3",
   "version": "3.7.3"
  }
 },
 "nbformat": 4,
 "nbformat_minor": 4
}
