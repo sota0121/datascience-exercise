{
 "cells": [
  {
   "cell_type": "markdown",
   "id": "f0a5d26e-8c83-4e5f-9968-a4b2371d7e2b",
   "metadata": {},
   "source": [
    "# 分類問題ー機械学習ライブラリscikit-learnの活用\n",
    "\n",
    "『Pythonによる機械学習プログラミング』3章\n",
    "\n",
    "https://github.com/rasbt/python-machine-learning-book-3rd-edition"
   ]
  },
  {
   "cell_type": "code",
   "execution_count": null,
   "id": "48b1f1bc-273a-480f-a8cf-bfe2c15c3714",
   "metadata": {},
   "outputs": [],
   "source": []
  }
 ],
 "metadata": {
  "kernelspec": {
   "display_name": "Python 3",
   "language": "python",
   "name": "python3"
  },
  "language_info": {
   "codemirror_mode": {
    "name": "ipython",
    "version": 3
   },
   "file_extension": ".py",
   "mimetype": "text/x-python",
   "name": "python",
   "nbconvert_exporter": "python",
   "pygments_lexer": "ipython3",
   "version": "3.9.4"
  }
 },
 "nbformat": 4,
 "nbformat_minor": 5
}
